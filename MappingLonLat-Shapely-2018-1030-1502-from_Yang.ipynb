{
 "cells": [
  {
   "cell_type": "markdown",
   "metadata": {},
   "source": [
    "# Mapping Longitude and Latitude to GeoJSON polygon"
   ]
  },
  {
   "cell_type": "markdown",
   "metadata": {},
   "source": [
    "## Reference:\n",
    "https://stackoverflow.com/questions/20776205/point-in-polygon-with-geojson-in-python"
   ]
  },
  {
   "cell_type": "code",
   "execution_count": 1,
   "metadata": {},
   "outputs": [],
   "source": [
    "import csv\n",
    "import json\n",
    "from shapely.geometry import shape, polygon, Point\n",
    "from shapely.strtree import STRtree\n",
    "mappath = 'nyu-2451-36743-geojson.json'\n",
    "readpath = '2013_Green_head_50K.csv'\n",
    "writepath = '2013_Green_map.csv'"
   ]
  },
  {
   "cell_type": "code",
   "execution_count": 2,
   "metadata": {},
   "outputs": [],
   "source": [
    "with open(mappath) as fj:\n",
    "        js = json.load(fj)\n",
    "\n",
    "# generate geo rtree\n",
    "polys = []    \n",
    "for feature in js['features']:\n",
    "    polygon = shape(feature['geometry'])\n",
    "    # poly=STRtree(polygon.geoms)\n",
    "    poly=STRtree(polygon)\n",
    "    polys += [poly]\n"
   ]
  },
  {
   "cell_type": "code",
   "execution_count": 3,
   "metadata": {},
   "outputs": [],
   "source": [
    "def search_location(point):\n",
    "    ipos=0\n",
    "    fflag=False\n",
    "\n",
    "    for poly in polys:\n",
    "        po = poly.query(point)\n",
    "        if po != []:\n",
    "            fflag=True\n",
    "            break\n",
    "        ipos+=1\n",
    "\n",
    "    if fflag:\n",
    "        return js['features'][ipos]['properties']['locationid']\n",
    "    else:\n",
    "        return 0 # empty location"
   ]
  },
  {
   "cell_type": "code",
   "execution_count": 4,
   "metadata": {},
   "outputs": [],
   "source": [
    "def cal_zone2(mappath,readpath,writepath,windows=True):\n",
    "    axis = ('PU_Lon','PU_Lat','DO_Lon','DO_Lat')\n",
    "    \n",
    "    with open(readpath,'r') as rf, open(writepath,'w') as wf:\n",
    "        reader=csv.reader(rf)\n",
    "        writer=csv.writer(wf, lineterminator='\\n')\n",
    "    \n",
    "        # read header\n",
    "        head=next(reader)\n",
    "        nf=len(head)   # number of fileds\n",
    "   \n",
    "        writer.writerow(['row_id','PULocationID','DOLocationID'])\n",
    "        \n",
    "        for i in range(nf):\n",
    "            if head[i] == axis[0]:\n",
    "                pu_lon_ = i\n",
    "            elif head[i] == axis[1]:\n",
    "                pu_lat_ = i\n",
    "            elif head[i] == axis[2]:\n",
    "                do_lon_ = i\n",
    "            elif head[i] == axis[3]:\n",
    "                do_lat_ = i\n",
    "\n",
    "        row_cnt=0\n",
    "        row_id = 0\n",
    "        \n",
    "        # process data\n",
    "        for row in reader:\n",
    "            row_id += 1\n",
    "            \n",
    "            point1 = Point(float(row[pu_lon_]), float(row[pu_lat_]))\n",
    "            point2 = Point(float(row[do_lon_]), float(row[do_lat_]))\n",
    "            \n",
    "            zone1 = search_location(point1)\n",
    "            zone2 = search_location(point2)\n",
    "            \n",
    "            new_row = [row_id,zone1,zone2]\n",
    "            writer.writerow(new_row)\n",
    "            \n",
    "            row_cnt+=1\n",
    "            \n",
    "        print('rows:',row_cnt)\n",
    "   "
   ]
  },
  {
   "cell_type": "code",
   "execution_count": 5,
   "metadata": {},
   "outputs": [
    {
     "name": "stdout",
     "output_type": "stream",
     "text": [
      "rows: 50000\n",
      "CPU times: user 26 s, sys: 105 ms, total: 26.1 s\n",
      "Wall time: 26.2 s\n"
     ]
    }
   ],
   "source": [
    "%time cal_zone2(mappath,readpath,writepath)"
   ]
  },
  {
   "cell_type": "markdown",
   "metadata": {},
   "source": [
    "### Original code to map (Longitude,Latitude) set to NYC Taxi Zones"
   ]
  },
  {
   "cell_type": "code",
   "execution_count": 6,
   "metadata": {},
   "outputs": [],
   "source": [
    "# load GeoJSON file containing sectors\n",
    "with open('nyu-2451-36743-geojson.json') as f:\n",
    "    js = json.load(f)"
   ]
  },
  {
   "cell_type": "code",
   "execution_count": 7,
   "metadata": {},
   "outputs": [
    {
     "data": {
      "text/plain": [
       "263"
      ]
     },
     "execution_count": 7,
     "metadata": {},
     "output_type": "execute_result"
    }
   ],
   "source": [
    "len(js['features'])"
   ]
  },
  {
   "cell_type": "code",
   "execution_count": null,
   "metadata": {
    "scrolled": false
   },
   "outputs": [],
   "source": [
    "# 讀取全部 263 區域\n",
    "# js['features']"
   ]
  },
  {
   "cell_type": "code",
   "execution_count": null,
   "metadata": {},
   "outputs": [],
   "source": [
    "js['features'][21]"
   ]
  },
  {
   "cell_type": "code",
   "execution_count": 8,
   "metadata": {},
   "outputs": [],
   "source": [
    "# construct point based on lon/lat returned by geocoder\n",
    "# 隨便給一個點的經緯度\n",
    "#point = Point(-73.9919569, 40.721567)\n",
    "point = Point(-73.913970947265625,40.773616790771484)"
   ]
  },
  {
   "cell_type": "code",
   "execution_count": 9,
   "metadata": {},
   "outputs": [
    {
     "data": {
      "text/plain": [
       "shapely.geometry.point.Point"
      ]
     },
     "execution_count": 9,
     "metadata": {},
     "output_type": "execute_result"
    }
   ],
   "source": [
    "type(point)"
   ]
  },
  {
   "cell_type": "code",
   "execution_count": 10,
   "metadata": {},
   "outputs": [],
   "source": [
    "# check each polygon to see if it contains the point\n",
    "# 看看剛剛給的點是不是在某一個區域中\n",
    "\n",
    "for feature in js['features']:\n",
    "    polygon = shape(feature['geometry'])\n",
    "    if polygon.contains(point):\n",
    "        zone = feature['properties']['locationid']"
   ]
  },
  {
   "cell_type": "code",
   "execution_count": 11,
   "metadata": {},
   "outputs": [
    {
     "data": {
      "text/plain": [
       "223"
      ]
     },
     "execution_count": 11,
     "metadata": {},
     "output_type": "execute_result"
    }
   ],
   "source": [
    "zone"
   ]
  },
  {
   "cell_type": "code",
   "execution_count": 12,
   "metadata": {},
   "outputs": [
    {
     "data": {
      "text/plain": [
       "223"
      ]
     },
     "execution_count": 12,
     "metadata": {},
     "output_type": "execute_result"
    }
   ],
   "source": [
    "search_location(point)"
   ]
  }
 ],
 "metadata": {
  "kernelspec": {
   "display_name": "Python 3",
   "language": "python",
   "name": "python3"
  },
  "language_info": {
   "codemirror_mode": {
    "name": "ipython",
    "version": 3
   },
   "file_extension": ".py",
   "mimetype": "text/x-python",
   "name": "python",
   "nbconvert_exporter": "python",
   "pygments_lexer": "ipython3",
   "version": "3.6.5"
  }
 },
 "nbformat": 4,
 "nbformat_minor": 2
}
